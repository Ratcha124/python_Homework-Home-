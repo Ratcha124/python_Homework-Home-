{
 "cells": [
  {
   "cell_type": "markdown",
   "id": "b444a2b1-1b6d-4176-8d1f-530254acfdc5",
   "metadata": {},
   "source": [
    "# แบบฝึกหัด บทที่ 5 ตัวแปรและประเภทข้อมูล (Dictionary)"
   ]
  },
  {
   "cell_type": "markdown",
   "id": "ee56ed63-0dad-4888-abb3-dac078c0177c",
   "metadata": {},
   "source": [
    "## 1.\tจงแปลงข้อมูลต่อไปนี้ให้เป็น Dictionary"
   ]
  },
  {
   "cell_type": "code",
   "execution_count": null,
   "id": "515bbeb0-b4ba-4d5d-9e98-e5d5ae45d7d8",
   "metadata": {},
   "outputs": [],
   "source": [
    "\"\"\"\n",
    "ชื่อ - สกุล - รหัส\n",
    "\n",
    "นายปวเรศ ใจธรรม 6612732120\n",
    "\"\"\""
   ]
  },
  {
   "cell_type": "code",
   "execution_count": 3,
   "id": "94428f7b-4992-4b2f-9ee0-065385e26a1c",
   "metadata": {},
   "outputs": [
    {
     "data": {
      "text/plain": [
       "' \\n6611127320001 นาย ศักรินทร์ หาญทอง โรงเรียนวัดหลวงวิทยา\\n6611127320002 นาย ทวีพรโชค ดาวจันทร โรงเรียนนาเเก้ววิทยา\\n6611127320003 นาย ฐิราชัย พลหาญ โรงเรียนโขงเจียมวิทยาคม\\n6611127320004 นาย ชานนท์ รูปคุ้ม โรงเรียนบ้านกันทรารมย์\\n'"
      ]
     },
     "execution_count": 3,
     "metadata": {},
     "output_type": "execute_result"
    }
   ],
   "source": [
    "\"\"\" \n",
    "6611127320001 นาย ศักรินทร์ หาญทอง โรงเรียนวัดหลวงวิทยา\n",
    "6611127320002 นาย ทวีพรโชค ดาวจันทร โรงเรียนนาเเก้ววิทยา\n",
    "6611127320003 นาย ฐิราชัย พลหาญ โรงเรียนโขงเจียมวิทยาคม\n",
    "6611127320004 นาย ชานนท์ รูปคุ้ม โรงเรียนบ้านกันทรารมย์\n",
    "\"\"\""
   ]
  },
  {
   "cell_type": "code",
   "execution_count": 14,
   "id": "e1e84ee5-5a94-4245-bbeb-72aa64fd1413",
   "metadata": {
    "tags": []
   },
   "outputs": [],
   "source": [
    "my_dict = {\n",
    "    '6612732124' : {\n",
    "        'prefix': 'นาย',\n",
    "        'first_name': 'รัชชานนท์',\n",
    "        'last_name': 'ทองแดงดี',\n",
    "        'school': 'วิทยาลัยเทคนิคศรีสะเกษ',\n",
    "    },\n",
    "    '6612732120' : {\n",
    "        'prefix': 'นาย',\n",
    "        'first_name': 'ปวเรศ',\n",
    "        'last_name': 'ใจธรรม',\n",
    "        'school': 'วิทยาลัยเทคนิคศรีสะเกษ',\n",
    "    },\n",
    "    '6612732116' : {\n",
    "        'prefix': 'นาย',\n",
    "        'first_name': 'นันทพัฒน์',\n",
    "        'last_name': 'นามคุณ',\n",
    "        'school': 'วิทยาลัยเทคนิคศรีสะเกษ',\n",
    "    },\n",
    "    '6612732106' : {\n",
    "        'prefix': 'นาย',\n",
    "        'first_name': 'จักรภัทร',\n",
    "        'last_name': 'หอมกระจาย',\n",
    "        'school': 'วิทยาลัยเทคนิคศรีสะเกษ',\n",
    "    },\n",
    "}"
   ]
  },
  {
   "cell_type": "markdown",
   "id": "84f776e2-52c8-471d-867f-4215479ec8ff",
   "metadata": {},
   "source": [
    "## 2.จงแสดงวิธีการเข้าถึงเข้ามูลรายบุคคล"
   ]
  },
  {
   "cell_type": "code",
   "execution_count": null,
   "id": "463e3c7a-afc0-4d94-842e-f9b5bf6878d0",
   "metadata": {},
   "outputs": [],
   "source": [
    "my_dict.key()"
   ]
  },
  {
   "cell_type": "code",
   "execution_count": 19,
   "id": "cbc8398d-c456-4868-972a-9977a7fd5d8a",
   "metadata": {
    "tags": []
   },
   "outputs": [
    {
     "name": "stdout",
     "output_type": "stream",
     "text": [
      "6612732124 นาย รัชชานนท์ ทองแดงดี วิทยาลัยเทคนิคศรีสะเกษ\n",
      "6612732120 นาย ปวเรศ ใจธรรม วิทยาลัยเทคนิคศรีสะเกษ\n",
      "6612732116 นาย นันทพัฒน์ นามคุณ วิทยาลัยเทคนิคศรีสะเกษ\n",
      "6612732106 นาย จักรภัทร หอมกระจาย วิทยาลัยเทคนิคศรีสะเกษ\n"
     ]
    }
   ],
   "source": [
    "for key in my_dict.keys():\n",
    "    print(\"{} {} {} {} {}\".format(\n",
    "    key,\n",
    "        my_dict.get(key).get(\"prefix\"),\n",
    "        my_dict.get(key).get(\"first_name\"),\n",
    "        my_dict.get(key).get(\"last_name\"),\n",
    "        my_dict.get(key).get(\"school\"),\n",
    "    ))"
   ]
  },
  {
   "cell_type": "code",
   "execution_count": null,
   "id": "c754dd6e-f536-4de1-b4b5-1ef0a08ae899",
   "metadata": {},
   "outputs": [],
   "source": []
  }
 ],
 "metadata": {
  "kernelspec": {
   "display_name": "Python 3 (ipykernel)",
   "language": "python",
   "name": "python3"
  },
  "language_info": {
   "codemirror_mode": {
    "name": "ipython",
    "version": 3
   },
   "file_extension": ".py",
   "mimetype": "text/x-python",
   "name": "python",
   "nbconvert_exporter": "python",
   "pygments_lexer": "ipython3",
   "version": "3.11.5"
  }
 },
 "nbformat": 4,
 "nbformat_minor": 5
}
