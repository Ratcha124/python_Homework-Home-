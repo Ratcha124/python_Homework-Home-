{
 "cells": [
  {
   "cell_type": "code",
   "execution_count": 32,
   "id": "5e6791d1-ea7a-4847-bf19-0aaae12bae50",
   "metadata": {
    "tags": []
   },
   "outputs": [
    {
     "name": "stdout",
     "output_type": "stream",
     "text": [
      "*  \n",
      "* *  \n",
      "* * *  \n",
      "* * * *  \n",
      "* * * * *  \n"
     ]
    }
   ],
   "source": [
    "def Rain(n):\n",
    "      k = 1 * n - 1\n",
    "      for i in range(0,n):\n",
    "           for j in range(0,k):\n",
    "               print(end=\"\")\n",
    "           k = k - 1\n",
    "           for j in range(0, i+1):\n",
    "                print(\"*\", end=\" \")\n",
    "           print(\" \")\n",
    " \n",
    "Rain(5)"
   ]
  },
  {
   "cell_type": "code",
   "execution_count": 58,
   "id": "a84d6c26-3617-40ac-8f83-0a1de05d2236",
   "metadata": {
    "tags": []
   },
   "outputs": [
    {
     "name": "stdout",
     "output_type": "stream",
     "text": [
      "        *  \n",
      "      * *  \n",
      "    * * *  \n",
      "  * * * *  \n",
      "* * * * *  \n"
     ]
    }
   ],
   "source": [
    "def Rain(n):\n",
    "      k = 1 * n - 1\n",
    "      for i in range(0,n):\n",
    "           for j in range(0,k):\n",
    "               print(end=\"  \")\n",
    "           k = k - 1\n",
    "           for j in range(0, i+1):\n",
    "                print(\"*\", end=\" \")\n",
    "           print(\" \")\n",
    " \n",
    "Rain(5)"
   ]
  },
  {
   "cell_type": "code",
   "execution_count": 135,
   "id": "3d84b388-6847-49a0-ae2d-058ca595fa5f",
   "metadata": {
    "tags": []
   },
   "outputs": [
    {
     "name": "stdout",
     "output_type": "stream",
     "text": [
      "* * * * *    \n",
      "* * * *      \n",
      "* * *        \n",
      "* *          \n",
      "*            \n"
     ]
    }
   ],
   "source": [
    "def Rain(n):\n",
    "      k = 1 * n + 0\n",
    "      for i in range(0,n):\n",
    "           for j in range(0,k):\n",
    "               print(end=\"* \")\n",
    "           k = k - 1\n",
    "           for j in range(0, i+1):\n",
    "                print(\" \", end=\" \")\n",
    "           print(\" \")\n",
    " \n",
    "Rain(5)"
   ]
  },
  {
   "cell_type": "code",
   "execution_count": 173,
   "id": "92b04700-268a-46d6-871c-db1e598ca879",
   "metadata": {
    "tags": []
   },
   "outputs": [
    {
     "name": "stdout",
     "output_type": "stream",
     "text": [
      "       * * * * * \n",
      "         * * * * \n",
      "           * * * \n",
      "             * * \n",
      "               * \n"
     ]
    }
   ],
   "source": [
    "def Rain(n):\n",
    "     k = n - 1\n",
    "     for i in range(n, -1 , -1):\n",
    "          for j in range(k , 0 , -1):\n",
    "               print(end=\"  \")\n",
    "          k = k + 1    \n",
    "          for j in range(0, i+1):\n",
    "               print(\" *\" , end=\"\")\n",
    "          print(\" \")\n",
    "      \n",
    " \n",
    "Rain(4)"
   ]
  },
  {
   "cell_type": "code",
   "execution_count": null,
   "id": "f2c7fd81-4e6b-4e18-b1e6-d630dc421654",
   "metadata": {},
   "outputs": [],
   "source": []
  }
 ],
 "metadata": {
  "kernelspec": {
   "display_name": "Python 3 (ipykernel)",
   "language": "python",
   "name": "python3"
  },
  "language_info": {
   "codemirror_mode": {
    "name": "ipython",
    "version": 3
   },
   "file_extension": ".py",
   "mimetype": "text/x-python",
   "name": "python",
   "nbconvert_exporter": "python",
   "pygments_lexer": "ipython3",
   "version": "3.11.5"
  }
 },
 "nbformat": 4,
 "nbformat_minor": 5
}
