{
 "cells": [
  {
   "cell_type": "markdown",
   "metadata": {},
   "source": [
    "# ข้อสอบปลายภาควิชา การเขียนโปรแกรมเชิงวัตถุ"
   ]
  },
  {
   "cell_type": "code",
   "execution_count": null,
   "metadata": {},
   "outputs": [],
   "source": [
    "\"\"\"\n",
    "ชื่อ - สกุล - รหัส\n",
    "นาย รัชชานนท์ ทองแดงดี 6612732124\n",
    "\n",
    "\"\"\""
   ]
  },
  {
   "cell_type": "markdown",
   "metadata": {},
   "source": [
    "## 1. เขียนโปรแกรมโดยใช้กลไกลการทำงานแบบ OOP ตามข้อกำหนดดังต่อไปนี้\n",
    "\n",
    "- จงสร้างคลาส Person\" ที่มีตัวแปร \"name\" และ \"age\" ซึ่งไม่สามารถเข้าถึงผ่านตัวแปร instance ได้ และเขียน method ที่ใช้สำหรับแก้ไข \"age\" จากภายในคลาส และ \"age\" จะต้องมีค่าเพิ่มขึ้นได้อย่างเดียวเท่านั้น\n",
    "\n",
    "- ภายใน Class Person กำหนดให้มี method ชื่อ getInfo() สำหรับแสดงข้อมูลบุคคลนั้น ๆ"
   ]
  },
  {
   "cell_type": "code",
   "execution_count": 15,
   "metadata": {
    "tags": []
   },
   "outputs": [
    {
     "name": "stdout",
     "output_type": "stream",
     "text": [
      "Name: Rat, Age: 30\n"
     ]
    }
   ],
   "source": [
    "# เขียนโปรแกรมในช่องนี้\n",
    "class Person:\n",
    "    def __init__(self, name, age):\n",
    "        self._name = name\n",
    "        self._age = age\n",
    "\n",
    "    def _set_age(self, new_age):\n",
    "        if new_age > self._age:\n",
    "            self._age = new_age\n",
    "\n",
    "    def getInfo(self):\n",
    "        print(f\"Name: {self._name}, Age: {self._age}\")\n",
    "\n",
    "person1 = Person(\"Rat\", 25)\n",
    "\n",
    "person1._set_age(30)\n",
    "\n",
    "person1._set_age(28)\n",
    "\n",
    "person1.getInfo()"
   ]
  },
  {
   "cell_type": "code",
   "execution_count": 10,
   "metadata": {
    "tags": []
   },
   "outputs": [
    {
     "name": "stdout",
     "output_type": "stream",
     "text": [
      "Name: Rat, Age: 28\n",
      "Name: Cha, Age: 35\n"
     ]
    }
   ],
   "source": [
    "# จงสร้างตัวแปร instance จากคลาส Person\n",
    "person1 = Person(\"Rat\", 28)\n",
    "person2 = Person(\"Cha\", 35)\n",
    "\n",
    "person1.getInfo()\n",
    "person2.getInfo()\n"
   ]
  },
  {
   "cell_type": "code",
   "execution_count": 11,
   "metadata": {
    "tags": []
   },
   "outputs": [
    {
     "name": "stdout",
     "output_type": "stream",
     "text": [
      "Name: Rat, Age: 28\n",
      "Name: Cha, Age: 35\n",
      "Name: Rat, Age: 30\n",
      "Name: Cha, Age: 40\n"
     ]
    }
   ],
   "source": [
    "# จงกำหนดอายุให้แก่ age\n",
    "person1 = Person(\"Rat\", 28)\n",
    "person2 = Person(\"Cha\", 35)\n",
    "\n",
    "person1.getInfo()\n",
    "person2.getInfo()\n",
    "\n",
    "person1._set_age(30)\n",
    "person2._set_age(40)\n",
    "\n",
    "person1.getInfo()\n",
    "person2.getInfo()\n",
    "\n"
   ]
  },
  {
   "cell_type": "code",
   "execution_count": 16,
   "metadata": {
    "tags": []
   },
   "outputs": [
    {
     "name": "stdout",
     "output_type": "stream",
     "text": [
      "Name: Rat, Age: 28\n"
     ]
    }
   ],
   "source": [
    "# จงแสดงข้่อมูลบุคคลของตัวแปร instance \n",
    "person1 = Person(\"Rat\", 28)\n",
    "\n",
    "person1.getInfo()"
   ]
  },
  {
   "cell_type": "markdown",
   "metadata": {},
   "source": [
    "## 2.จงสร้างคลาส Student ที่มีการสืบทอดคุณสมบัติจากคลาส Person ในข้อที่ 1\n",
    "\n",
    "- ในคลาส Student จะมีคุณสมบัติเพิ่มเข้ามาดังต่อไปนี้ \"student_id\" คือ รหัสนักศึกษา, \"major\" คือ สาขาวิชา และทั้งสองจะต้องเป็นคุณสมบัติที่ไม่สามารถแก้ไขได้หลังจากสร้างตัวแปร Instance แล้ว\n",
    "\n",
    "- และใน method getInfo() ให้เพิ่มการแแสดง รหัสนักศึกษา และ สาชาวิชา เข้ามาด้วย"
   ]
  },
  {
   "cell_type": "code",
   "execution_count": 32,
   "metadata": {
    "tags": []
   },
   "outputs": [
    {
     "name": "stdout",
     "output_type": "stream",
     "text": [
      "Name: Rat, Age: 20\n",
      "Student ID: 6612732124 Major: Computer Science\n"
     ]
    }
   ],
   "source": [
    "# เขียนโปรแกรมในช่องนี้\n",
    "class Student(Person):\n",
    "    def __init__(self, name, age, student_id, major):\n",
    "        super().__init__(name, age)\n",
    "        self._student_id = student_id\n",
    "        self._major = major\n",
    "\n",
    "    def getInfo(self):\n",
    "        super().getInfo()\n",
    "        print(f\"Student ID: {self._student_id} Major: {self._major}\")\n",
    "\n",
    "student1 = Student(\"Rat\", 20, \"6612732124\", \"Computer Science\")\n",
    "\n",
    "student1.getInfo()"
   ]
  },
  {
   "cell_type": "code",
   "execution_count": 34,
   "metadata": {
    "tags": []
   },
   "outputs": [
    {
     "name": "stdout",
     "output_type": "stream",
     "text": [
      "Name: Rat, Age: 20\n",
      "Student ID: 6612732124 Major: Computer Science\n"
     ]
    }
   ],
   "source": [
    "# จงสร้างตัวแปร instance จากคลาส Student\n",
    "student1 = Student(\"Rat\", 20, \"6612732124\", \"Computer Science\")\n",
    "\n",
    "student1.getInfo()"
   ]
  },
  {
   "cell_type": "code",
   "execution_count": 35,
   "metadata": {
    "tags": []
   },
   "outputs": [
    {
     "name": "stdout",
     "output_type": "stream",
     "text": [
      "Name: Rat, Age: 20\n",
      "Student ID: 6612732124 Major: Computer Science\n"
     ]
    }
   ],
   "source": [
    "# จงแสดงข้่อมูลนักเรียนของตัวแปร instance \n",
    "student1.getInfo()"
   ]
  },
  {
   "cell_type": "markdown",
   "metadata": {},
   "source": [
    "## 3.จงสร้างคลาส ComSciStudent ที่มีการสืบทอดคุณสมบัติจากคลาส Student ในข้อที่ 2\n",
    "\n",
    "- ในคลาส ComSciStudent จะมีคุณสมบัติที่รับเข้ามาแค่ \"student_id\" คือ รหัสนักศึกษา, แต่ \"major\" คือ สาขาวิชา จะมีค่า default เป็น \"Computer Science\" และทั้งสองจะต้องเป็นคุณสมบัติที่ไม่สามารถแก้ไขได้หลังจากสร้างตัวแปร Instance แล้ว\n",
    "\n",
    "- ในคลาส ComSciStudent จะมีคุณสมบัติที่เพิ่มเข้ามา อีก 1 ตัว คือ ความถนัด หรือ aptitude เพิ่มเข้ามา ซึ่งจะสามารถกำหนดได้ในกระบวนการสร้างตัวแปร instance และจะสามารถแก้ไขได้อีกโดยการแก้ไขผ่าน method ได้เท่านั้น\n",
    "\n",
    "\n",
    "- ในคลาส ComSciStudent จะมี method ชื่อว่า Coding() ซึ่งจะนำเสนอข้อมูลว่า นักศึกษา รหัสนักศึกษา ชื่อ กำลังเขียนโปรแกรมอยู่\n",
    "\n",
    "- ในคลาส ComSciStudent จะมี method ชื่อว่า getAptitude() ซึ่งจะนำเสนอข้อมูลว่า นักศึกษา รหัสนักศึกษา ชื่อ มีความถนัดเรื่อง ..."
   ]
  },
  {
   "cell_type": "code",
   "execution_count": 62,
   "metadata": {
    "tags": []
   },
   "outputs": [
    {
     "name": "stdout",
     "output_type": "stream",
     "text": [
      "Name: Rat, Age: 22\n",
      "Student ID: 6612732124 Major: วิทยาการคอมพิวเตอร์\n",
      "Rat (ID: 6612732124) ความถนัด การพัฒนาเว็บ.\n",
      "Rat (ID: 6612732124)\n"
     ]
    }
   ],
   "source": [
    "# เขียนโปรแกรมในช่องนี้\n",
    "class ComSciStudent(Student):\n",
    "    def __init__(self, name, age, student_id, aptitude=None):\n",
    "        super().__init__(name, age, student_id, major=\"วิทยาการคอมพิวเตอร์\")\n",
    "        self._aptitude = aptitude\n",
    "\n",
    "    def setAptitude(self, aptitude):\n",
    "        self._aptitude = aptitude\n",
    "\n",
    "    def Coding(self):\n",
    "        print(f\"{self._name} (ID: {self._student_id})\")\n",
    "\n",
    "    def getAptitude(self):\n",
    "        if self._aptitude:\n",
    "            return f\"{self._name} (ID: {self._student_id}) ความถนัด {self._aptitude}.\"\n",
    "        else:\n",
    "            return f\"{self._name} (ID: {self._student_id}) เขียนโปรแกรม\"\n",
    "\n",
    "comsci_student1 = ComSciStudent(\"Rat\", 22, \"6612732124\")\n",
    "\n",
    "comsci_student1.getInfo()\n",
    "\n",
    "comsci_student1.setAptitude(\"การพัฒนาเว็บ\")\n",
    "\n",
    "print(comsci_student1.getAptitude())\n",
    "\n",
    "comsci_student1.Coding()\n"
   ]
  },
  {
   "cell_type": "code",
   "execution_count": 63,
   "metadata": {
    "tags": []
   },
   "outputs": [
    {
     "name": "stdout",
     "output_type": "stream",
     "text": [
      "Name: Rat, Age: 22\n",
      "Student ID: 6612732124 Major: วิทยาการคอมพิวเตอร์\n"
     ]
    }
   ],
   "source": [
    "# จงสร้างตัวแปร instance จากคลาส ComSciStudent\n",
    "comsci_student1 = ComSciStudent(\"Rat\", 22, \"6612732124\")\n",
    "\n",
    "comsci_student1.getInfo()"
   ]
  },
  {
   "cell_type": "code",
   "execution_count": 64,
   "metadata": {
    "tags": []
   },
   "outputs": [
    {
     "name": "stdout",
     "output_type": "stream",
     "text": [
      "Name: Rat, Age: 22\n",
      "Student ID: 6612732124 Major: วิทยาการคอมพิวเตอร์\n"
     ]
    }
   ],
   "source": [
    "# จงแสดงข้่อมูลนักเรียนของตัวแปร instance \n",
    "comsci_student1.getInfo()\n"
   ]
  },
  {
   "cell_type": "code",
   "execution_count": 65,
   "metadata": {
    "tags": []
   },
   "outputs": [
    {
     "name": "stdout",
     "output_type": "stream",
     "text": [
      "Rat (ID: 6612732124)\n"
     ]
    }
   ],
   "source": [
    "# จงแสดงการ coding\n",
    "comsci_student1.Coding()\n"
   ]
  },
  {
   "cell_type": "code",
   "execution_count": 66,
   "metadata": {
    "tags": []
   },
   "outputs": [
    {
     "name": "stdout",
     "output_type": "stream",
     "text": [
      "Rat (ID: 6612732124) เขียนโปรแกรม\n"
     ]
    }
   ],
   "source": [
    "# จงแสดงความถนัด\n",
    "print(comsci_student1.getAptitude())\n"
   ]
  },
  {
   "cell_type": "code",
   "execution_count": 67,
   "metadata": {
    "tags": []
   },
   "outputs": [
    {
     "name": "stdout",
     "output_type": "stream",
     "text": [
      "Rat (ID: 6612732124) ความถนัด Python Programming.\n"
     ]
    }
   ],
   "source": [
    "# จงแก้ไขความถนัด ให้เป็น Python Programing\n",
    "comsci_student1._aptitude = \"Python Programming\"\n",
    "\n",
    "# ทดสอบการแสดงข้อมูลความถนัด\n",
    "print(comsci_student1.getAptitude())"
   ]
  }
 ],
 "metadata": {
  "kernelspec": {
   "display_name": "Python 3 (ipykernel)",
   "language": "python",
   "name": "python3"
  },
  "language_info": {
   "codemirror_mode": {
    "name": "ipython",
    "version": 3
   },
   "file_extension": ".py",
   "mimetype": "text/x-python",
   "name": "python",
   "nbconvert_exporter": "python",
   "pygments_lexer": "ipython3",
   "version": "3.11.5"
  }
 },
 "nbformat": 4,
 "nbformat_minor": 4
}
